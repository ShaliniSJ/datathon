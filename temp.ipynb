{
 "cells": [
  {
   "cell_type": "code",
   "execution_count": 1,
   "metadata": {},
   "outputs": [],
   "source": [
    "from flask import Flask\n",
    "import pandas as pd\n",
    "import numpy as np\n",
    "import os,sys\n",
    "sys.path.append(os.path.abspath(os.path.join('..', 'Predictive Crime Analytics')))\n"
   ]
  },
  {
   "cell_type": "code",
   "execution_count": 3,
   "metadata": {},
   "outputs": [],
   "source": [
    "accused_data = pd.read_parquet('Predictive Crime Analytics/AccusedData.parquet')\n",
    "complainant_details = pd.read_parquet('Predictive Crime Analytics/ComplainantDetailsData.parquet')\n",
    "victim_info = pd.read_parquet('Predictive Crime Analytics/VictimInfoDetails.parquet')\n",
    "# fir_details = pd.read_parquet('Predictive Crime Analytics/FIR_Details_Data.parquet')\n"
   ]
  },
  {
   "cell_type": "code",
   "execution_count": 16,
   "metadata": {},
   "outputs": [
    {
     "name": "stdout",
     "output_type": "stream",
     "text": [
      "95029\n"
     ]
    },
    {
     "data": {
      "text/plain": [
       "age\n",
       "17    22681\n",
       "18    20810\n",
       "16    16149\n",
       "15    10569\n",
       "14     8038\n",
       "13     5316\n",
       "12     4587\n",
       "10     3622\n",
       "11     3257\n",
       "Name: count, dtype: int64"
      ]
     },
     "execution_count": 16,
     "metadata": {},
     "output_type": "execute_result"
    }
   ],
   "source": [
    "# victim data with range of age form 10-18\n",
    "res = victim_info[(victim_info['age'] >= 10) & (victim_info['age'] <= 18)]\n",
    "print(len(res))\n",
    "res[\"age\"].value_counts()"
   ]
  }
 ],
 "metadata": {
  "kernelspec": {
   "display_name": "Python 3",
   "language": "python",
   "name": "python3"
  },
  "language_info": {
   "codemirror_mode": {
    "name": "ipython",
    "version": 3
   },
   "file_extension": ".py",
   "mimetype": "text/x-python",
   "name": "python",
   "nbconvert_exporter": "python",
   "pygments_lexer": "ipython3",
   "version": "3.11.3"
  }
 },
 "nbformat": 4,
 "nbformat_minor": 2
}
